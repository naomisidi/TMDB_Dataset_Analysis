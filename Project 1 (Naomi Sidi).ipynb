{
 "cells": [
  {
   "cell_type": "markdown",
   "id": "e8a87b52",
   "metadata": {},
   "source": [
    "# Project: Investigating the TMDB Movie Dataset\n",
    "\n",
    "## Table of Contents\n",
    "<ul>\n",
    "<li><a href=\"#intro\">Introduction</a></li>\n",
    "<li><a href=\"#wrangling\">Data Wrangling</a></li>\n",
    "<li><a href=\"#eda\">Exploratory Data Analysis</a></li>\n",
    "<li><a href=\"#conclusions\">Conclusions</a></li>\n",
    "</ul>"
   ]
  },
  {
   "cell_type": "markdown",
   "id": "67bfa4be",
   "metadata": {},
   "source": [
    "<a id='intro'></a>\n",
    "## Introduction"
   ]
  },
  {
   "cell_type": "markdown",
   "id": "3f0428e7",
   "metadata": {},
   "source": [
    "The data set under investigation contains information on over 10,000 movies compiled from The Movie Database (TMDb). It portrays detailed information about movies collected over 50 years, including revenues earned and popularity. Columns in the dataset portray various features of the movies as follows:\n",
    "1. Id - Id assigned by the TMDb database\n",
    "2. Imdb Id - External Id for the dataset\n",
    "3. Popularity - Movie's rank based on page views related to the film\n",
    "4. Budget - The budget of the movie\n",
    "5. Revenue - The revenue of the movie\n",
    "6. Original title - The name of the movie\n",
    "7. Cast - The actors in the movie\n",
    "8. Homepage - The movie's official website\n",
    "9. Director - The person who manages production of the movie\n",
    "10. Tagline - A catchphrase for the movie\n",
    "11. Keywords - Words that best describe the content of the movie\n",
    "12. Overview - a brief description of the movie's plot\n",
    "13. Runtime - The length of the movie\n",
    "14. Genres - The type of movie\n",
    "15. Production companies - The movie company that produces the movie\n",
    "16. Release date - The date the movie was released\n",
    "17. Vote count - Individual votes cast on a movie\n",
    "18. Vote_average - Mean of the votes cast on a movie\n",
    "19. Release year - The year the movie was released\n",
    "20. Budget_adj -  The budget of the movie in terms of 2010 dollars, accounting for inflation over time.\n",
    "21. Revenue_adj -  The revenue of the movie in terms of 2010 dollars, accounting for inflation over time.\n",
    "\n",
    "The primary objective of this investigation is to determine whether correlations exist between different characteristics of movies and popularity. Focusing on the last 10 years of the dataset, part of the investigation will also seek to determine whether the month a movie is released influences its popularity or revenue."
   ]
  },
  {
   "cell_type": "code",
   "execution_count": 1,
   "id": "64562886",
   "metadata": {},
   "outputs": [
    {
     "name": "stderr",
     "output_type": "stream",
     "text": [
      "C:\\Users\\PC\\anaconda3\\envs\\Project1\\lib\\site-packages\\scipy\\__init__.py:146: UserWarning: A NumPy version >=1.16.5 and <1.23.0 is required for this version of SciPy (detected version 1.23.1\n",
      "  warnings.warn(f\"A NumPy version >={np_minversion} and <{np_maxversion}\"\n"
     ]
    }
   ],
   "source": [
    "# Importing all the packages intended to analyze the data\n",
    "\n",
    "import numpy as np\n",
    "import pandas as pd\n",
    "import seaborn as sns\n",
    "import matplotlib.pyplot as plt\n",
    "%matplotlib inline"
   ]
  },
  {
   "cell_type": "code",
   "execution_count": 147,
   "id": "1b261acb",
   "metadata": {},
   "outputs": [
    {
     "data": {
      "text/html": [
       "<div>\n",
       "<style scoped>\n",
       "    .dataframe tbody tr th:only-of-type {\n",
       "        vertical-align: middle;\n",
       "    }\n",
       "\n",
       "    .dataframe tbody tr th {\n",
       "        vertical-align: top;\n",
       "    }\n",
       "\n",
       "    .dataframe thead th {\n",
       "        text-align: right;\n",
       "    }\n",
       "</style>\n",
       "<table border=\"1\" class=\"dataframe\">\n",
       "  <thead>\n",
       "    <tr style=\"text-align: right;\">\n",
       "      <th></th>\n",
       "      <th>id</th>\n",
       "      <th>imdb_id</th>\n",
       "      <th>popularity</th>\n",
       "      <th>budget</th>\n",
       "      <th>revenue</th>\n",
       "      <th>original_title</th>\n",
       "      <th>cast</th>\n",
       "      <th>homepage</th>\n",
       "      <th>director</th>\n",
       "      <th>tagline</th>\n",
       "      <th>...</th>\n",
       "      <th>overview</th>\n",
       "      <th>runtime</th>\n",
       "      <th>genres</th>\n",
       "      <th>production_companies</th>\n",
       "      <th>release_date</th>\n",
       "      <th>vote_count</th>\n",
       "      <th>vote_average</th>\n",
       "      <th>release_year</th>\n",
       "      <th>budget_adj</th>\n",
       "      <th>revenue_adj</th>\n",
       "    </tr>\n",
       "  </thead>\n",
       "  <tbody>\n",
       "    <tr>\n",
       "      <th>0</th>\n",
       "      <td>135397</td>\n",
       "      <td>tt0369610</td>\n",
       "      <td>32.985763</td>\n",
       "      <td>150000000</td>\n",
       "      <td>1513528810</td>\n",
       "      <td>Jurassic World</td>\n",
       "      <td>Chris Pratt|Bryce Dallas Howard|Irrfan Khan|Vi...</td>\n",
       "      <td>http://www.jurassicworld.com/</td>\n",
       "      <td>Colin Trevorrow</td>\n",
       "      <td>The park is open.</td>\n",
       "      <td>...</td>\n",
       "      <td>Twenty-two years after the events of Jurassic ...</td>\n",
       "      <td>124</td>\n",
       "      <td>Action|Adventure|Science Fiction|Thriller</td>\n",
       "      <td>Universal Studios|Amblin Entertainment|Legenda...</td>\n",
       "      <td>6/9/2015</td>\n",
       "      <td>5562</td>\n",
       "      <td>6.5</td>\n",
       "      <td>2015</td>\n",
       "      <td>137999939.3</td>\n",
       "      <td>1.392446e+09</td>\n",
       "    </tr>\n",
       "    <tr>\n",
       "      <th>1</th>\n",
       "      <td>76341</td>\n",
       "      <td>tt1392190</td>\n",
       "      <td>28.419936</td>\n",
       "      <td>150000000</td>\n",
       "      <td>378436354</td>\n",
       "      <td>Mad Max: Fury Road</td>\n",
       "      <td>Tom Hardy|Charlize Theron|Hugh Keays-Byrne|Nic...</td>\n",
       "      <td>http://www.madmaxmovie.com/</td>\n",
       "      <td>George Miller</td>\n",
       "      <td>What a Lovely Day.</td>\n",
       "      <td>...</td>\n",
       "      <td>An apocalyptic story set in the furthest reach...</td>\n",
       "      <td>120</td>\n",
       "      <td>Action|Adventure|Science Fiction|Thriller</td>\n",
       "      <td>Village Roadshow Pictures|Kennedy Miller Produ...</td>\n",
       "      <td>5/13/2015</td>\n",
       "      <td>6185</td>\n",
       "      <td>7.1</td>\n",
       "      <td>2015</td>\n",
       "      <td>137999939.3</td>\n",
       "      <td>3.481613e+08</td>\n",
       "    </tr>\n",
       "  </tbody>\n",
       "</table>\n",
       "<p>2 rows × 21 columns</p>\n",
       "</div>"
      ],
      "text/plain": [
       "       id    imdb_id  popularity     budget     revenue      original_title  \\\n",
       "0  135397  tt0369610   32.985763  150000000  1513528810      Jurassic World   \n",
       "1   76341  tt1392190   28.419936  150000000   378436354  Mad Max: Fury Road   \n",
       "\n",
       "                                                cast  \\\n",
       "0  Chris Pratt|Bryce Dallas Howard|Irrfan Khan|Vi...   \n",
       "1  Tom Hardy|Charlize Theron|Hugh Keays-Byrne|Nic...   \n",
       "\n",
       "                        homepage         director             tagline  ...  \\\n",
       "0  http://www.jurassicworld.com/  Colin Trevorrow   The park is open.  ...   \n",
       "1    http://www.madmaxmovie.com/    George Miller  What a Lovely Day.  ...   \n",
       "\n",
       "                                            overview runtime  \\\n",
       "0  Twenty-two years after the events of Jurassic ...     124   \n",
       "1  An apocalyptic story set in the furthest reach...     120   \n",
       "\n",
       "                                      genres  \\\n",
       "0  Action|Adventure|Science Fiction|Thriller   \n",
       "1  Action|Adventure|Science Fiction|Thriller   \n",
       "\n",
       "                                production_companies release_date vote_count  \\\n",
       "0  Universal Studios|Amblin Entertainment|Legenda...     6/9/2015       5562   \n",
       "1  Village Roadshow Pictures|Kennedy Miller Produ...    5/13/2015       6185   \n",
       "\n",
       "   vote_average  release_year   budget_adj   revenue_adj  \n",
       "0           6.5          2015  137999939.3  1.392446e+09  \n",
       "1           7.1          2015  137999939.3  3.481613e+08  \n",
       "\n",
       "[2 rows x 21 columns]"
      ]
     },
     "execution_count": 147,
     "metadata": {},
     "output_type": "execute_result"
    }
   ],
   "source": [
    "#Loading the movie data from a csv file and printing out a few lines.\n",
    "df = pd.read_csv('tmdb-movies.csv')\n",
    "df.head(2)"
   ]
  },
  {
   "cell_type": "markdown",
   "id": "1c67f7a7",
   "metadata": {},
   "source": [
    "<a id='wrangling'></a>\n",
    "## Data Wrangling"
   ]
  },
  {
   "cell_type": "markdown",
   "id": "458e8913",
   "metadata": {},
   "source": [
    "### Data Cleaning"
   ]
  },
  {
   "cell_type": "markdown",
   "id": "55f6e84e",
   "metadata": {},
   "source": [
    "This section involves primary cleaning of the data and finding out if there are any potential issues. This will include changing data types, finding missing values, dropping duplicates and dropping columns that are not useful in answering the research questions."
   ]
  },
  {
   "cell_type": "code",
   "execution_count": 148,
   "id": "cd742257",
   "metadata": {},
   "outputs": [
    {
     "name": "stdout",
     "output_type": "stream",
     "text": [
      "<class 'pandas.core.frame.DataFrame'>\n",
      "RangeIndex: 10866 entries, 0 to 10865\n",
      "Data columns (total 21 columns):\n",
      " #   Column                Non-Null Count  Dtype  \n",
      "---  ------                --------------  -----  \n",
      " 0   id                    10866 non-null  int64  \n",
      " 1   imdb_id               10856 non-null  object \n",
      " 2   popularity            10866 non-null  float64\n",
      " 3   budget                10866 non-null  int64  \n",
      " 4   revenue               10866 non-null  int64  \n",
      " 5   original_title        10866 non-null  object \n",
      " 6   cast                  10790 non-null  object \n",
      " 7   homepage              2936 non-null   object \n",
      " 8   director              10822 non-null  object \n",
      " 9   tagline               8042 non-null   object \n",
      " 10  keywords              9373 non-null   object \n",
      " 11  overview              10862 non-null  object \n",
      " 12  runtime               10866 non-null  int64  \n",
      " 13  genres                10843 non-null  object \n",
      " 14  production_companies  9836 non-null   object \n",
      " 15  release_date          10866 non-null  object \n",
      " 16  vote_count            10866 non-null  int64  \n",
      " 17  vote_average          10866 non-null  float64\n",
      " 18  release_year          10866 non-null  int64  \n",
      " 19  budget_adj            10866 non-null  float64\n",
      " 20  revenue_adj           10866 non-null  float64\n",
      "dtypes: float64(4), int64(6), object(11)\n",
      "memory usage: 1.7+ MB\n"
     ]
    }
   ],
   "source": [
    "#To find any potential issues with the data\n",
    "df.info()"
   ]
  },
  {
   "cell_type": "markdown",
   "id": "8ec60f65",
   "metadata": {},
   "source": [
    "Findings: The columns **cast**, **homepage**, **director**, **tagline**, **keywords**, **overview**, **genres**, and **production_companies** have missing data."
   ]
  },
  {
   "cell_type": "code",
   "execution_count": 149,
   "id": "5caee720",
   "metadata": {},
   "outputs": [
    {
     "data": {
      "text/plain": [
       "id                        int64\n",
       "imdb_id                  object\n",
       "popularity              float64\n",
       "budget                    int64\n",
       "revenue                   int64\n",
       "original_title           object\n",
       "cast                     object\n",
       "homepage                 object\n",
       "director                 object\n",
       "tagline                  object\n",
       "keywords                 object\n",
       "overview                 object\n",
       "runtime                   int64\n",
       "genres                   object\n",
       "production_companies     object\n",
       "release_date             object\n",
       "vote_count                int64\n",
       "vote_average            float64\n",
       "release_year              int64\n",
       "budget_adj              float64\n",
       "revenue_adj             float64\n",
       "dtype: object"
      ]
     },
     "execution_count": 149,
     "metadata": {},
     "output_type": "execute_result"
    }
   ],
   "source": [
    "df.dtypes"
   ]
  },
  {
   "cell_type": "markdown",
   "id": "3d8bcca6",
   "metadata": {},
   "source": [
    "Findings: It also seems that some of the columns are not saved as correct data types for instance **release_date** is saved as a string instead of datetime object"
   ]
  },
  {
   "cell_type": "code",
   "execution_count": 150,
   "id": "b4b535af",
   "metadata": {},
   "outputs": [
    {
     "data": {
      "text/plain": [
       "1"
      ]
     },
     "execution_count": 150,
     "metadata": {},
     "output_type": "execute_result"
    }
   ],
   "source": [
    "#To find if there are duplicated rows\n",
    "sum(df.duplicated())"
   ]
  },
  {
   "cell_type": "markdown",
   "id": "c353838f",
   "metadata": {},
   "source": [
    "Only one duplicate was found and it can be dropped"
   ]
  },
  {
   "cell_type": "code",
   "execution_count": 151,
   "id": "d8cda7f9",
   "metadata": {},
   "outputs": [],
   "source": [
    "#To drop the duplicated row\n",
    "df.drop_duplicates(inplace=True)"
   ]
  },
  {
   "cell_type": "code",
   "execution_count": 152,
   "id": "898d8f6d",
   "metadata": {},
   "outputs": [
    {
     "data": {
      "text/plain": [
       "0"
      ]
     },
     "execution_count": 152,
     "metadata": {},
     "output_type": "execute_result"
    }
   ],
   "source": [
    "#To check if the duplicates were dropped\n",
    "sum(df.duplicated())"
   ]
  },
  {
   "cell_type": "code",
   "execution_count": 153,
   "id": "9141863c",
   "metadata": {},
   "outputs": [
    {
     "data": {
      "text/plain": [
       "(10865, 21)"
      ]
     },
     "execution_count": 153,
     "metadata": {},
     "output_type": "execute_result"
    }
   ],
   "source": [
    "#To find out the number of rows and columns\n",
    "df.shape"
   ]
  },
  {
   "cell_type": "code",
   "execution_count": 154,
   "id": "9b1acb3d",
   "metadata": {},
   "outputs": [],
   "source": [
    "#To address the issue of incorrect data types for the **release_date** column, I'll be changing the column from string to datetime type\n",
    "df['release_date'] = pd.to_datetime(df['release_date'])"
   ]
  },
  {
   "cell_type": "code",
   "execution_count": 155,
   "id": "d875cc0e",
   "metadata": {},
   "outputs": [
    {
     "data": {
      "text/plain": [
       "0       2015-06-09\n",
       "1       2015-05-13\n",
       "2       2015-03-18\n",
       "3       2015-12-15\n",
       "4       2015-04-01\n",
       "           ...    \n",
       "10861   1966-06-15\n",
       "10862   1966-12-21\n",
       "10863   1966-01-01\n",
       "10864   1966-11-02\n",
       "10865   1966-11-15\n",
       "Name: release_date, Length: 10865, dtype: datetime64[ns]"
      ]
     },
     "execution_count": 155,
     "metadata": {},
     "output_type": "execute_result"
    }
   ],
   "source": [
    "#To check if the data type has changed\n",
    "df['release_date']"
   ]
  },
  {
   "cell_type": "code",
   "execution_count": 156,
   "id": "a37415e2",
   "metadata": {},
   "outputs": [
    {
     "data": {
      "text/plain": [
       "Index(['id', 'imdb_id', 'popularity', 'budget', 'revenue', 'original_title',\n",
       "       'cast', 'homepage', 'director', 'tagline', 'keywords', 'overview',\n",
       "       'runtime', 'genres', 'production_companies', 'release_date',\n",
       "       'vote_count', 'vote_average', 'release_year', 'budget_adj',\n",
       "       'revenue_adj'],\n",
       "      dtype='object')"
      ]
     },
     "execution_count": 156,
     "metadata": {},
     "output_type": "execute_result"
    }
   ],
   "source": [
    "#To find the column names for the entire data set\n",
    "df.columns"
   ]
  },
  {
   "cell_type": "markdown",
   "id": "6bef70d0",
   "metadata": {},
   "source": [
    "The following columns are either repeated or not necessary in answering the two research questions and will be dropped:\n",
    "1. id column is a better unique identifier\n",
    "2. budget and revenue are not necessary since they do not account for inflation.\n",
    "3. cast, homepage, tagline, keywords, overview, and production_companies will not be useful."
   ]
  },
  {
   "cell_type": "code",
   "execution_count": 157,
   "id": "739e6967",
   "metadata": {},
   "outputs": [],
   "source": [
    "#To drop columns that are not useful in anwering the research questions\n",
    "df.drop(['imdb_id', 'budget', 'revenue', 'cast', 'homepage', 'tagline', 'keywords', 'overview', 'production_companies'], axis=1, inplace=True)"
   ]
  },
  {
   "cell_type": "code",
   "execution_count": 158,
   "id": "9854e424",
   "metadata": {},
   "outputs": [
    {
     "data": {
      "text/html": [
       "<div>\n",
       "<style scoped>\n",
       "    .dataframe tbody tr th:only-of-type {\n",
       "        vertical-align: middle;\n",
       "    }\n",
       "\n",
       "    .dataframe tbody tr th {\n",
       "        vertical-align: top;\n",
       "    }\n",
       "\n",
       "    .dataframe thead th {\n",
       "        text-align: right;\n",
       "    }\n",
       "</style>\n",
       "<table border=\"1\" class=\"dataframe\">\n",
       "  <thead>\n",
       "    <tr style=\"text-align: right;\">\n",
       "      <th></th>\n",
       "      <th>id</th>\n",
       "      <th>popularity</th>\n",
       "      <th>original_title</th>\n",
       "      <th>director</th>\n",
       "      <th>runtime</th>\n",
       "      <th>genres</th>\n",
       "      <th>release_date</th>\n",
       "      <th>vote_count</th>\n",
       "      <th>vote_average</th>\n",
       "      <th>release_year</th>\n",
       "      <th>budget_adj</th>\n",
       "      <th>revenue_adj</th>\n",
       "    </tr>\n",
       "  </thead>\n",
       "  <tbody>\n",
       "    <tr>\n",
       "      <th>0</th>\n",
       "      <td>135397</td>\n",
       "      <td>32.985763</td>\n",
       "      <td>Jurassic World</td>\n",
       "      <td>Colin Trevorrow</td>\n",
       "      <td>124</td>\n",
       "      <td>Action|Adventure|Science Fiction|Thriller</td>\n",
       "      <td>2015-06-09</td>\n",
       "      <td>5562</td>\n",
       "      <td>6.5</td>\n",
       "      <td>2015</td>\n",
       "      <td>137999939.3</td>\n",
       "      <td>1.392446e+09</td>\n",
       "    </tr>\n",
       "    <tr>\n",
       "      <th>1</th>\n",
       "      <td>76341</td>\n",
       "      <td>28.419936</td>\n",
       "      <td>Mad Max: Fury Road</td>\n",
       "      <td>George Miller</td>\n",
       "      <td>120</td>\n",
       "      <td>Action|Adventure|Science Fiction|Thriller</td>\n",
       "      <td>2015-05-13</td>\n",
       "      <td>6185</td>\n",
       "      <td>7.1</td>\n",
       "      <td>2015</td>\n",
       "      <td>137999939.3</td>\n",
       "      <td>3.481613e+08</td>\n",
       "    </tr>\n",
       "  </tbody>\n",
       "</table>\n",
       "</div>"
      ],
      "text/plain": [
       "       id  popularity      original_title         director  runtime  \\\n",
       "0  135397   32.985763      Jurassic World  Colin Trevorrow      124   \n",
       "1   76341   28.419936  Mad Max: Fury Road    George Miller      120   \n",
       "\n",
       "                                      genres release_date  vote_count  \\\n",
       "0  Action|Adventure|Science Fiction|Thriller   2015-06-09        5562   \n",
       "1  Action|Adventure|Science Fiction|Thriller   2015-05-13        6185   \n",
       "\n",
       "   vote_average  release_year   budget_adj   revenue_adj  \n",
       "0           6.5          2015  137999939.3  1.392446e+09  \n",
       "1           7.1          2015  137999939.3  3.481613e+08  "
      ]
     },
     "execution_count": 158,
     "metadata": {},
     "output_type": "execute_result"
    }
   ],
   "source": [
    "#Confirm changes\n",
    "df.head(2)"
   ]
  },
  {
   "cell_type": "markdown",
   "id": "2728a96f",
   "metadata": {},
   "source": [
    "<a id='eda'></a>\n",
    "## Exploratory Data Analysis\n",
    "\n",
    "### Research Question 1:  What Determines a Highly Popular Movie?\n",
    "\n",
    "To answer this question a statistical analysis of various features of the dataset."
   ]
  },
  {
   "cell_type": "code",
   "execution_count": 159,
   "id": "449dec63",
   "metadata": {},
   "outputs": [
    {
     "data": {
      "text/html": [
       "<div>\n",
       "<style scoped>\n",
       "    .dataframe tbody tr th:only-of-type {\n",
       "        vertical-align: middle;\n",
       "    }\n",
       "\n",
       "    .dataframe tbody tr th {\n",
       "        vertical-align: top;\n",
       "    }\n",
       "\n",
       "    .dataframe thead th {\n",
       "        text-align: right;\n",
       "    }\n",
       "</style>\n",
       "<table border=\"1\" class=\"dataframe\">\n",
       "  <thead>\n",
       "    <tr style=\"text-align: right;\">\n",
       "      <th></th>\n",
       "      <th>count</th>\n",
       "      <th>mean</th>\n",
       "      <th>std</th>\n",
       "      <th>min</th>\n",
       "      <th>25%</th>\n",
       "      <th>50%</th>\n",
       "      <th>75%</th>\n",
       "      <th>max</th>\n",
       "    </tr>\n",
       "  </thead>\n",
       "  <tbody>\n",
       "    <tr>\n",
       "      <th>id</th>\n",
       "      <td>10865.0</td>\n",
       "      <td>6.606637e+04</td>\n",
       "      <td>9.213409e+04</td>\n",
       "      <td>5.000000</td>\n",
       "      <td>10596.000000</td>\n",
       "      <td>20662.000000</td>\n",
       "      <td>7.561200e+04</td>\n",
       "      <td>4.178590e+05</td>\n",
       "    </tr>\n",
       "    <tr>\n",
       "      <th>popularity</th>\n",
       "      <td>10865.0</td>\n",
       "      <td>6.464456e-01</td>\n",
       "      <td>1.000231e+00</td>\n",
       "      <td>0.000065</td>\n",
       "      <td>0.207575</td>\n",
       "      <td>0.383831</td>\n",
       "      <td>7.138570e-01</td>\n",
       "      <td>3.298576e+01</td>\n",
       "    </tr>\n",
       "    <tr>\n",
       "      <th>runtime</th>\n",
       "      <td>10865.0</td>\n",
       "      <td>1.020718e+02</td>\n",
       "      <td>3.138270e+01</td>\n",
       "      <td>0.000000</td>\n",
       "      <td>90.000000</td>\n",
       "      <td>99.000000</td>\n",
       "      <td>1.110000e+02</td>\n",
       "      <td>9.000000e+02</td>\n",
       "    </tr>\n",
       "    <tr>\n",
       "      <th>vote_count</th>\n",
       "      <td>10865.0</td>\n",
       "      <td>2.173996e+02</td>\n",
       "      <td>5.756446e+02</td>\n",
       "      <td>10.000000</td>\n",
       "      <td>17.000000</td>\n",
       "      <td>38.000000</td>\n",
       "      <td>1.460000e+02</td>\n",
       "      <td>9.767000e+03</td>\n",
       "    </tr>\n",
       "    <tr>\n",
       "      <th>vote_average</th>\n",
       "      <td>10865.0</td>\n",
       "      <td>5.975012e+00</td>\n",
       "      <td>9.351381e-01</td>\n",
       "      <td>1.500000</td>\n",
       "      <td>5.400000</td>\n",
       "      <td>6.000000</td>\n",
       "      <td>6.600000e+00</td>\n",
       "      <td>9.200000e+00</td>\n",
       "    </tr>\n",
       "    <tr>\n",
       "      <th>release_year</th>\n",
       "      <td>10865.0</td>\n",
       "      <td>2.001322e+03</td>\n",
       "      <td>1.281326e+01</td>\n",
       "      <td>1960.000000</td>\n",
       "      <td>1995.000000</td>\n",
       "      <td>2006.000000</td>\n",
       "      <td>2.011000e+03</td>\n",
       "      <td>2.015000e+03</td>\n",
       "    </tr>\n",
       "    <tr>\n",
       "      <th>budget_adj</th>\n",
       "      <td>10865.0</td>\n",
       "      <td>1.754989e+07</td>\n",
       "      <td>3.430753e+07</td>\n",
       "      <td>0.000000</td>\n",
       "      <td>0.000000</td>\n",
       "      <td>0.000000</td>\n",
       "      <td>2.085325e+07</td>\n",
       "      <td>4.250000e+08</td>\n",
       "    </tr>\n",
       "    <tr>\n",
       "      <th>revenue_adj</th>\n",
       "      <td>10865.0</td>\n",
       "      <td>5.136900e+07</td>\n",
       "      <td>1.446383e+08</td>\n",
       "      <td>0.000000</td>\n",
       "      <td>0.000000</td>\n",
       "      <td>0.000000</td>\n",
       "      <td>3.370173e+07</td>\n",
       "      <td>2.827124e+09</td>\n",
       "    </tr>\n",
       "  </tbody>\n",
       "</table>\n",
       "</div>"
      ],
      "text/plain": [
       "                count          mean           std          min           25%  \\\n",
       "id            10865.0  6.606637e+04  9.213409e+04     5.000000  10596.000000   \n",
       "popularity    10865.0  6.464456e-01  1.000231e+00     0.000065      0.207575   \n",
       "runtime       10865.0  1.020718e+02  3.138270e+01     0.000000     90.000000   \n",
       "vote_count    10865.0  2.173996e+02  5.756446e+02    10.000000     17.000000   \n",
       "vote_average  10865.0  5.975012e+00  9.351381e-01     1.500000      5.400000   \n",
       "release_year  10865.0  2.001322e+03  1.281326e+01  1960.000000   1995.000000   \n",
       "budget_adj    10865.0  1.754989e+07  3.430753e+07     0.000000      0.000000   \n",
       "revenue_adj   10865.0  5.136900e+07  1.446383e+08     0.000000      0.000000   \n",
       "\n",
       "                       50%           75%           max  \n",
       "id            20662.000000  7.561200e+04  4.178590e+05  \n",
       "popularity        0.383831  7.138570e-01  3.298576e+01  \n",
       "runtime          99.000000  1.110000e+02  9.000000e+02  \n",
       "vote_count       38.000000  1.460000e+02  9.767000e+03  \n",
       "vote_average      6.000000  6.600000e+00  9.200000e+00  \n",
       "release_year   2006.000000  2.011000e+03  2.015000e+03  \n",
       "budget_adj        0.000000  2.085325e+07  4.250000e+08  \n",
       "revenue_adj       0.000000  3.370173e+07  2.827124e+09  "
      ]
     },
     "execution_count": 159,
     "metadata": {},
     "output_type": "execute_result"
    }
   ],
   "source": [
    "#df.describe generates descriptive statistics about the data\n",
    "df.describe().transpose()"
   ]
  },
  {
   "cell_type": "markdown",
   "id": "bdddd5a6",
   "metadata": {},
   "source": [
    "Findings: This statistical analysis shows that the earliest movie in the data set was released in 1960 and the latest movie released in 2015. The budget and revenue feilds show zero vales as minimum which may pose a few challenges. "
   ]
  },
  {
   "cell_type": "code",
   "execution_count": 160,
   "id": "049de452",
   "metadata": {},
   "outputs": [
    {
     "data": {
      "text/plain": [
       "id             -0.014351\n",
       "popularity      1.000000\n",
       "runtime         0.139032\n",
       "vote_count      0.800828\n",
       "vote_average    0.209517\n",
       "release_year    0.089806\n",
       "budget_adj      0.513555\n",
       "revenue_adj     0.609085\n",
       "Name: popularity, dtype: float64"
      ]
     },
     "execution_count": 160,
     "metadata": {},
     "output_type": "execute_result"
    }
   ],
   "source": [
    "#To find the correlation between popularity and different features of movies.\n",
    "df.corr().popularity"
   ]
  },
  {
   "cell_type": "markdown",
   "id": "047a9dd1",
   "metadata": {},
   "source": [
    "Findings: There seems to be a high correlation between all the variables except id. Correlation tests the relationship between two variables. “0” indicates that there is no relationship between the variables, -1 indicates a perfect negative correlation whereas 1 means that there is a  positive correlation. A heatmap can provide an interesting visualization for the correlation analysis."
   ]
  },
  {
   "cell_type": "code",
   "execution_count": 161,
   "id": "2a6a5629",
   "metadata": {},
   "outputs": [
    {
     "data": {
      "image/png": "[encoded data removed]",
      "text/plain": [
       "<Figure size 432x288 with 2 Axes>"
      ]
     },
     "metadata": {
      "needs_background": "light"
     },
     "output_type": "display_data"
    },
    {
     "data": {
      "text/plain": [
       "<Figure size 936x936 with 0 Axes>"
      ]
     },
     "metadata": {},
     "output_type": "display_data"
    }
   ],
   "source": [
    "#to visualize the correlation between the different features of movies a heatmap comes in handy\n",
    "sns.heatmap(df.corr())\n",
    "plt.title('Correlation of Various Movie Features')\n",
    "plt.figure (figsize= (13,13));"
   ]
  },
  {
   "cell_type": "markdown",
   "id": "c5a07525",
   "metadata": {},
   "source": [
    "Findings: While the correlation analysis above provides the relationship between various features of movies as relates to popularity. The analysis however, only contains numerical data. It would be useful to see how variables that do not contain numerical data influence popularity. \n",
    "\n",
    "#### What is the average popularity for each director?\n",
    "People who enjoy watching movies are often keen on the movie director. I would like to find out the vote average for each director "
   ]
  },
  {
   "cell_type": "code",
   "execution_count": 162,
   "id": "7c9607cc",
   "metadata": {},
   "outputs": [
    {
     "data": {
      "text/html": [
       "<div>\n",
       "<style scoped>\n",
       "    .dataframe tbody tr th:only-of-type {\n",
       "        vertical-align: middle;\n",
       "    }\n",
       "\n",
       "    .dataframe tbody tr th {\n",
       "        vertical-align: top;\n",
       "    }\n",
       "\n",
       "    .dataframe thead tr th {\n",
       "        text-align: left;\n",
       "    }\n",
       "\n",
       "    .dataframe thead tr:last-of-type th {\n",
       "        text-align: right;\n",
       "    }\n",
       "</style>\n",
       "<table border=\"1\" class=\"dataframe\">\n",
       "  <thead>\n",
       "    <tr>\n",
       "      <th></th>\n",
       "      <th colspan=\"2\" halign=\"left\">popularity</th>\n",
       "    </tr>\n",
       "    <tr>\n",
       "      <th></th>\n",
       "      <th>mean</th>\n",
       "      <th>count</th>\n",
       "    </tr>\n",
       "    <tr>\n",
       "      <th>director</th>\n",
       "      <th></th>\n",
       "      <th></th>\n",
       "    </tr>\n",
       "  </thead>\n",
       "  <tbody>\n",
       "    <tr>\n",
       "      <th>Colin Trevorrow</th>\n",
       "      <td>16.696886</td>\n",
       "      <td>2</td>\n",
       "    </tr>\n",
       "    <tr>\n",
       "      <th>Joe Russo|Anthony Russo</th>\n",
       "      <td>12.971027</td>\n",
       "      <td>1</td>\n",
       "    </tr>\n",
       "    <tr>\n",
       "      <th>Chad Stahelski|David Leitch</th>\n",
       "      <td>11.422751</td>\n",
       "      <td>1</td>\n",
       "    </tr>\n",
       "    <tr>\n",
       "      <th>Don Hall|Chris Williams</th>\n",
       "      <td>8.691294</td>\n",
       "      <td>1</td>\n",
       "    </tr>\n",
       "    <tr>\n",
       "      <th>Juno John Lee</th>\n",
       "      <td>8.411577</td>\n",
       "      <td>1</td>\n",
       "    </tr>\n",
       "    <tr>\n",
       "      <th>Kyle Balda|Pierre Coffin</th>\n",
       "      <td>7.404165</td>\n",
       "      <td>1</td>\n",
       "    </tr>\n",
       "    <tr>\n",
       "      <th>Alan Taylor</th>\n",
       "      <td>6.883129</td>\n",
       "      <td>2</td>\n",
       "    </tr>\n",
       "    <tr>\n",
       "      <th>Peter Richardson</th>\n",
       "      <td>6.668990</td>\n",
       "      <td>1</td>\n",
       "    </tr>\n",
       "    <tr>\n",
       "      <th>Pete Docter</th>\n",
       "      <td>6.326804</td>\n",
       "      <td>1</td>\n",
       "    </tr>\n",
       "    <tr>\n",
       "      <th>Christopher Nolan</th>\n",
       "      <td>6.195521</td>\n",
       "      <td>10</td>\n",
       "    </tr>\n",
       "  </tbody>\n",
       "</table>\n",
       "</div>"
      ],
      "text/plain": [
       "                            popularity      \n",
       "                                  mean count\n",
       "director                                    \n",
       "Colin Trevorrow              16.696886     2\n",
       "Joe Russo|Anthony Russo      12.971027     1\n",
       "Chad Stahelski|David Leitch  11.422751     1\n",
       "Don Hall|Chris Williams       8.691294     1\n",
       "Juno John Lee                 8.411577     1\n",
       "Kyle Balda|Pierre Coffin      7.404165     1\n",
       "Alan Taylor                   6.883129     2\n",
       "Peter Richardson              6.668990     1\n",
       "Pete Docter                   6.326804     1\n",
       "Christopher Nolan             6.195521    10"
      ]
     },
     "execution_count": 162,
     "metadata": {},
     "output_type": "execute_result"
    }
   ],
   "source": [
    "#To get the average popularity for each director\n",
    "df[['popularity', 'director']].groupby('director').agg(['mean','count']).sort_values(by=('popularity','mean'), ascending=False)[:10]"
   ]
  },
  {
   "cell_type": "markdown",
   "id": "60e4e3e5",
   "metadata": {},
   "source": [
    "It seems that the top ten directors with the highest popularity have released mostly 1 or 2 movies which may not give a very good representation of the entire data. Let's find out which director has the most movies produced."
   ]
  },
  {
   "cell_type": "code",
   "execution_count": 163,
   "id": "25cb4b40",
   "metadata": {},
   "outputs": [
    {
     "data": {
      "image/png": "[encoded data removed]",
      "text/plain": [
       "<Figure size 720x576 with 1 Axes>"
      ]
     },
     "metadata": {
      "needs_background": "light"
     },
     "output_type": "display_data"
    }
   ],
   "source": [
    "#To get the top ten directors with the highest number of movies produced\n",
    "movies_per_directors = df.director.value_counts(ascending=False)[:10]\n",
    "movies_per_directors.plot(kind='bar', figsize=(10,8), sort_columns='True', title='Top Ten Directors');"
   ]
  },
  {
   "cell_type": "markdown",
   "id": "662751d9",
   "metadata": {},
   "source": [
    "Findings: The above analysis shows that the number of movies a producer makes does not influence their popularity"
   ]
  },
  {
   "cell_type": "markdown",
   "id": "e71e94a4",
   "metadata": {},
   "source": [
    "#### Which director produced the movie with the highest revenue earnings?"
   ]
  },
  {
   "cell_type": "code",
   "execution_count": 164,
   "id": "e4366b77",
   "metadata": {},
   "outputs": [
    {
     "data": {
      "text/plain": [
       "2827123750.0"
      ]
     },
     "execution_count": 164,
     "metadata": {},
     "output_type": "execute_result"
    }
   ],
   "source": [
    "#Find the highest revenue movie in the data set\n",
    "df['revenue_adj'].max()"
   ]
  },
  {
   "cell_type": "code",
   "execution_count": 165,
   "id": "786b27f6",
   "metadata": {},
   "outputs": [
    {
     "data": {
      "text/html": [
       "<div>\n",
       "<style scoped>\n",
       "    .dataframe tbody tr th:only-of-type {\n",
       "        vertical-align: middle;\n",
       "    }\n",
       "\n",
       "    .dataframe tbody tr th {\n",
       "        vertical-align: top;\n",
       "    }\n",
       "\n",
       "    .dataframe thead th {\n",
       "        text-align: right;\n",
       "    }\n",
       "</style>\n",
       "<table border=\"1\" class=\"dataframe\">\n",
       "  <thead>\n",
       "    <tr style=\"text-align: right;\">\n",
       "      <th></th>\n",
       "      <th>id</th>\n",
       "      <th>popularity</th>\n",
       "      <th>original_title</th>\n",
       "      <th>director</th>\n",
       "      <th>runtime</th>\n",
       "      <th>genres</th>\n",
       "      <th>release_date</th>\n",
       "      <th>vote_count</th>\n",
       "      <th>vote_average</th>\n",
       "      <th>release_year</th>\n",
       "      <th>budget_adj</th>\n",
       "      <th>revenue_adj</th>\n",
       "    </tr>\n",
       "  </thead>\n",
       "  <tbody>\n",
       "    <tr>\n",
       "      <th>1386</th>\n",
       "      <td>19995</td>\n",
       "      <td>9.432768</td>\n",
       "      <td>Avatar</td>\n",
       "      <td>James Cameron</td>\n",
       "      <td>162</td>\n",
       "      <td>Action|Adventure|Fantasy|Science Fiction</td>\n",
       "      <td>2009-12-10</td>\n",
       "      <td>8458</td>\n",
       "      <td>7.1</td>\n",
       "      <td>2009</td>\n",
       "      <td>240886902.9</td>\n",
       "      <td>2.827124e+09</td>\n",
       "    </tr>\n",
       "  </tbody>\n",
       "</table>\n",
       "</div>"
      ],
      "text/plain": [
       "         id  popularity original_title       director  runtime  \\\n",
       "1386  19995    9.432768         Avatar  James Cameron      162   \n",
       "\n",
       "                                        genres release_date  vote_count  \\\n",
       "1386  Action|Adventure|Fantasy|Science Fiction   2009-12-10        8458   \n",
       "\n",
       "      vote_average  release_year   budget_adj   revenue_adj  \n",
       "1386           7.1          2009  240886902.9  2.827124e+09  "
      ]
     },
     "execution_count": 165,
     "metadata": {},
     "output_type": "execute_result"
    }
   ],
   "source": [
    "#To find the features of the highest revenue movie\n",
    "df[df['revenue_adj'].max() == df['revenue_adj']]"
   ]
  },
  {
   "cell_type": "markdown",
   "id": "4218bbd9",
   "metadata": {},
   "source": [
    "Findings: From the above analysis, we can see that the highest revenue earned was over two billion dollars and directed by James Cameron who does not appear on the list of directors who have produced the highest number of movies nor directors who's movies rank high in popularity."
   ]
  },
  {
   "cell_type": "markdown",
   "id": "7a0d1e3e",
   "metadata": {},
   "source": [
    "#### Which director produced the longest movie?"
   ]
  },
  {
   "cell_type": "code",
   "execution_count": 200,
   "id": "eabef992",
   "metadata": {},
   "outputs": [
    {
     "data": {
      "text/plain": [
       "900"
      ]
     },
     "execution_count": 200,
     "metadata": {},
     "output_type": "execute_result"
    }
   ],
   "source": [
    "#Find the longest movie in the data set\n",
    "df['runtime'].max()"
   ]
  },
  {
   "cell_type": "markdown",
   "id": "f579966b",
   "metadata": {},
   "source": [
    "Findings: The longest movie produced was 900 minutes long. It would be interesting to see who produced it and its genre."
   ]
  },
  {
   "cell_type": "code",
   "execution_count": 204,
   "id": "a293a88d",
   "metadata": {},
   "outputs": [
    {
     "data": {
      "text/html": [
       "<div>\n",
       "<style scoped>\n",
       "    .dataframe tbody tr th:only-of-type {\n",
       "        vertical-align: middle;\n",
       "    }\n",
       "\n",
       "    .dataframe tbody tr th {\n",
       "        vertical-align: top;\n",
       "    }\n",
       "\n",
       "    .dataframe thead th {\n",
       "        text-align: right;\n",
       "    }\n",
       "</style>\n",
       "<table border=\"1\" class=\"dataframe\">\n",
       "  <thead>\n",
       "    <tr style=\"text-align: right;\">\n",
       "      <th></th>\n",
       "      <th>id</th>\n",
       "      <th>popularity</th>\n",
       "      <th>original_title</th>\n",
       "      <th>director</th>\n",
       "      <th>runtime</th>\n",
       "      <th>genres</th>\n",
       "      <th>release_date</th>\n",
       "      <th>vote_count</th>\n",
       "      <th>vote_average</th>\n",
       "      <th>release_year</th>\n",
       "      <th>budget_adj</th>\n",
       "      <th>revenue_adj</th>\n",
       "      <th>release_month</th>\n",
       "      <th>release_day</th>\n",
       "    </tr>\n",
       "  </thead>\n",
       "  <tbody>\n",
       "    <tr>\n",
       "      <th>3894</th>\n",
       "      <td>125336</td>\n",
       "      <td>0.006925</td>\n",
       "      <td>The Story of Film: An Odyssey</td>\n",
       "      <td>Mark Cousins</td>\n",
       "      <td>900</td>\n",
       "      <td>Documentary</td>\n",
       "      <td>2011-09-03</td>\n",
       "      <td>14</td>\n",
       "      <td>9.2</td>\n",
       "      <td>2011</td>\n",
       "      <td>0.0</td>\n",
       "      <td>0.0</td>\n",
       "      <td>September</td>\n",
       "      <td>Saturday</td>\n",
       "    </tr>\n",
       "  </tbody>\n",
       "</table>\n",
       "</div>"
      ],
      "text/plain": [
       "          id  popularity                 original_title      director  \\\n",
       "3894  125336    0.006925  The Story of Film: An Odyssey  Mark Cousins   \n",
       "\n",
       "      runtime       genres release_date  vote_count  vote_average  \\\n",
       "3894      900  Documentary   2011-09-03          14           9.2   \n",
       "\n",
       "      release_year  budget_adj  revenue_adj release_month release_day  \n",
       "3894          2011         0.0          0.0     September    Saturday  "
      ]
     },
     "execution_count": 204,
     "metadata": {},
     "output_type": "execute_result"
    }
   ],
   "source": [
    "#To find the longest movie\n",
    "df[df['runtime'].max() == df['runtime']]"
   ]
  },
  {
   "cell_type": "code",
   "execution_count": 203,
   "id": "8ea1b12d",
   "metadata": {},
   "outputs": [
    {
     "data": {
      "text/plain": [
       "3894    Mark Cousins\n",
       "Name: director, dtype: object"
      ]
     },
     "execution_count": 203,
     "metadata": {},
     "output_type": "execute_result"
    }
   ],
   "source": [
    "#To find the director who produced the longest movie\n",
    "df[df['runtime'].max() == df['runtime']]['director']"
   ]
  },
  {
   "cell_type": "markdown",
   "id": "ffe4e3ed",
   "metadata": {},
   "source": [
    "Finding: The longest movie is a documentary produced by Mark Cousins and the budget and revenue fields are zero values which makes further analysis on revenue challenging at this point."
   ]
  },
  {
   "cell_type": "markdown",
   "id": "9d0e3834",
   "metadata": {},
   "source": [
    "### Research Question 2:  When is the Best Time to Release a Movie?\n",
    "\n",
    "Release dates are quite vital in the movie industry and determines the success of a movie in terms of popularity and revenue. This section seeks to determine the relationship between release dates, revenue and popularity.\n",
    "\n",
    "#### Which release month has the highest number of movies released?"
   ]
  },
  {
   "cell_type": "code",
   "execution_count": 166,
   "id": "ed366e89",
   "metadata": {},
   "outputs": [
    {
     "data": {
      "text/plain": [
       "0            June\n",
       "1             May\n",
       "2           March\n",
       "3        December\n",
       "4           April\n",
       "           ...   \n",
       "10861        June\n",
       "10862    December\n",
       "10863     January\n",
       "10864    November\n",
       "10865    November\n",
       "Name: release_date, Length: 10865, dtype: object"
      ]
     },
     "execution_count": 166,
     "metadata": {},
     "output_type": "execute_result"
    }
   ],
   "source": [
    "# To find the release months for the entire data set\n",
    "release_month = df['release_date'].dt.month_name()\n",
    "release_month"
   ]
  },
  {
   "cell_type": "code",
   "execution_count": 168,
   "id": "2e0ffdbe",
   "metadata": {},
   "outputs": [],
   "source": [
    "#Creating a new column name **release_month** \n",
    "df['release_month'] = df['release_date'].dt.month_name()"
   ]
  },
  {
   "cell_type": "code",
   "execution_count": 169,
   "id": "9390119b",
   "metadata": {},
   "outputs": [
    {
     "data": {
      "text/html": [
       "<div>\n",
       "<style scoped>\n",
       "    .dataframe tbody tr th:only-of-type {\n",
       "        vertical-align: middle;\n",
       "    }\n",
       "\n",
       "    .dataframe tbody tr th {\n",
       "        vertical-align: top;\n",
       "    }\n",
       "\n",
       "    .dataframe thead th {\n",
       "        text-align: right;\n",
       "    }\n",
       "</style>\n",
       "<table border=\"1\" class=\"dataframe\">\n",
       "  <thead>\n",
       "    <tr style=\"text-align: right;\">\n",
       "      <th></th>\n",
       "      <th>id</th>\n",
       "      <th>popularity</th>\n",
       "      <th>original_title</th>\n",
       "      <th>director</th>\n",
       "      <th>runtime</th>\n",
       "      <th>genres</th>\n",
       "      <th>release_date</th>\n",
       "      <th>vote_count</th>\n",
       "      <th>vote_average</th>\n",
       "      <th>release_year</th>\n",
       "      <th>budget_adj</th>\n",
       "      <th>revenue_adj</th>\n",
       "      <th>release_month</th>\n",
       "    </tr>\n",
       "  </thead>\n",
       "  <tbody>\n",
       "    <tr>\n",
       "      <th>0</th>\n",
       "      <td>135397</td>\n",
       "      <td>32.985763</td>\n",
       "      <td>Jurassic World</td>\n",
       "      <td>Colin Trevorrow</td>\n",
       "      <td>124</td>\n",
       "      <td>Action|Adventure|Science Fiction|Thriller</td>\n",
       "      <td>2015-06-09</td>\n",
       "      <td>5562</td>\n",
       "      <td>6.5</td>\n",
       "      <td>2015</td>\n",
       "      <td>137999939.3</td>\n",
       "      <td>1.392446e+09</td>\n",
       "      <td>June</td>\n",
       "    </tr>\n",
       "    <tr>\n",
       "      <th>1</th>\n",
       "      <td>76341</td>\n",
       "      <td>28.419936</td>\n",
       "      <td>Mad Max: Fury Road</td>\n",
       "      <td>George Miller</td>\n",
       "      <td>120</td>\n",
       "      <td>Action|Adventure|Science Fiction|Thriller</td>\n",
       "      <td>2015-05-13</td>\n",
       "      <td>6185</td>\n",
       "      <td>7.1</td>\n",
       "      <td>2015</td>\n",
       "      <td>137999939.3</td>\n",
       "      <td>3.481613e+08</td>\n",
       "      <td>May</td>\n",
       "    </tr>\n",
       "  </tbody>\n",
       "</table>\n",
       "</div>"
      ],
      "text/plain": [
       "       id  popularity      original_title         director  runtime  \\\n",
       "0  135397   32.985763      Jurassic World  Colin Trevorrow      124   \n",
       "1   76341   28.419936  Mad Max: Fury Road    George Miller      120   \n",
       "\n",
       "                                      genres release_date  vote_count  \\\n",
       "0  Action|Adventure|Science Fiction|Thriller   2015-06-09        5562   \n",
       "1  Action|Adventure|Science Fiction|Thriller   2015-05-13        6185   \n",
       "\n",
       "   vote_average  release_year   budget_adj   revenue_adj release_month  \n",
       "0           6.5          2015  137999939.3  1.392446e+09          June  \n",
       "1           7.1          2015  137999939.3  3.481613e+08           May  "
      ]
     },
     "execution_count": 169,
     "metadata": {},
     "output_type": "execute_result"
    }
   ],
   "source": [
    "#To check if the column has been added\n",
    "df.head(2)"
   ]
  },
  {
   "cell_type": "code",
   "execution_count": 170,
   "id": "d355e03d",
   "metadata": {},
   "outputs": [
    {
     "data": {
      "text/plain": [
       "September    1331\n",
       "October      1153\n",
       "December      985\n",
       "January       919\n",
       "August        918\n",
       "June          827\n",
       "March         822\n",
       "November      814\n",
       "May           809\n",
       "July          799\n",
       "April         797\n",
       "February      691\n",
       "Name: release_month, dtype: int64"
      ]
     },
     "execution_count": 170,
     "metadata": {},
     "output_type": "execute_result"
    }
   ],
   "source": [
    "#To get the value counts for each month\n",
    "count_months = df['release_month'].value_counts()\n",
    "count_months"
   ]
  },
  {
   "cell_type": "code",
   "execution_count": 199,
   "id": "8a6d2c9e",
   "metadata": {},
   "outputs": [
    {
     "data": {
      "image/png": "[encoded data removed]",
      "text/plain": [
       "<Figure size 504x504 with 1 Axes>"
      ]
     },
     "metadata": {},
     "output_type": "display_data"
    }
   ],
   "source": [
    "#To plot the number of movies released by month\n",
    "count_months.plot(kind='pie', figsize=(7,7))\n",
    "plt.title('Movies Released by Month');"
   ]
  },
  {
   "cell_type": "markdown",
   "id": "3eb51d37",
   "metadata": {},
   "source": [
    "Findings: Most movies were released in September and the least in April. The rest of the months were fairly evenly distributed throughout the year."
   ]
  },
  {
   "cell_type": "markdown",
   "id": "d63b476c",
   "metadata": {},
   "source": [
    "#### Which release month has the highest average revenue?"
   ]
  },
  {
   "cell_type": "code",
   "execution_count": 177,
   "id": "cd9d4c60",
   "metadata": {
    "scrolled": true
   },
   "outputs": [
    {
     "data": {
      "text/html": [
       "<div>\n",
       "<style scoped>\n",
       "    .dataframe tbody tr th:only-of-type {\n",
       "        vertical-align: middle;\n",
       "    }\n",
       "\n",
       "    .dataframe tbody tr th {\n",
       "        vertical-align: top;\n",
       "    }\n",
       "\n",
       "    .dataframe thead tr th {\n",
       "        text-align: left;\n",
       "    }\n",
       "\n",
       "    .dataframe thead tr:last-of-type th {\n",
       "        text-align: right;\n",
       "    }\n",
       "</style>\n",
       "<table border=\"1\" class=\"dataframe\">\n",
       "  <thead>\n",
       "    <tr>\n",
       "      <th></th>\n",
       "      <th>revenue_adj</th>\n",
       "    </tr>\n",
       "    <tr>\n",
       "      <th></th>\n",
       "      <th>mean</th>\n",
       "    </tr>\n",
       "    <tr>\n",
       "      <th>release_month</th>\n",
       "      <th></th>\n",
       "    </tr>\n",
       "  </thead>\n",
       "  <tbody>\n",
       "    <tr>\n",
       "      <th>June</th>\n",
       "      <td>9.759761e+07</td>\n",
       "    </tr>\n",
       "    <tr>\n",
       "      <th>December</th>\n",
       "      <td>8.476453e+07</td>\n",
       "    </tr>\n",
       "    <tr>\n",
       "      <th>May</th>\n",
       "      <td>7.624643e+07</td>\n",
       "    </tr>\n",
       "    <tr>\n",
       "      <th>July</th>\n",
       "      <td>7.329208e+07</td>\n",
       "    </tr>\n",
       "    <tr>\n",
       "      <th>November</th>\n",
       "      <td>7.186496e+07</td>\n",
       "    </tr>\n",
       "    <tr>\n",
       "      <th>March</th>\n",
       "      <td>4.950355e+07</td>\n",
       "    </tr>\n",
       "    <tr>\n",
       "      <th>April</th>\n",
       "      <td>3.971626e+07</td>\n",
       "    </tr>\n",
       "    <tr>\n",
       "      <th>August</th>\n",
       "      <td>3.546830e+07</td>\n",
       "    </tr>\n",
       "    <tr>\n",
       "      <th>February</th>\n",
       "      <td>3.393971e+07</td>\n",
       "    </tr>\n",
       "    <tr>\n",
       "      <th>October</th>\n",
       "      <td>3.334361e+07</td>\n",
       "    </tr>\n",
       "    <tr>\n",
       "      <th>September</th>\n",
       "      <td>2.325910e+07</td>\n",
       "    </tr>\n",
       "    <tr>\n",
       "      <th>January</th>\n",
       "      <td>1.895000e+07</td>\n",
       "    </tr>\n",
       "  </tbody>\n",
       "</table>\n",
       "</div>"
      ],
      "text/plain": [
       "                revenue_adj\n",
       "                       mean\n",
       "release_month              \n",
       "June           9.759761e+07\n",
       "December       8.476453e+07\n",
       "May            7.624643e+07\n",
       "July           7.329208e+07\n",
       "November       7.186496e+07\n",
       "March          4.950355e+07\n",
       "April          3.971626e+07\n",
       "August         3.546830e+07\n",
       "February       3.393971e+07\n",
       "October        3.334361e+07\n",
       "September      2.325910e+07\n",
       "January        1.895000e+07"
      ]
     },
     "execution_count": 177,
     "metadata": {},
     "output_type": "execute_result"
    }
   ],
   "source": [
    "#To get the mean revenue for each release month\n",
    "df[['revenue_adj', 'release_month']].groupby('release_month').agg(['mean']).sort_values(by=('revenue_adj','mean'), ascending=False)"
   ]
  },
  {
   "cell_type": "markdown",
   "id": "f5b616fa",
   "metadata": {},
   "source": [
    "Findings: Based on release months, the months of June and December appear to be the highest revenue earners for movies in the dataset."
   ]
  },
  {
   "cell_type": "markdown",
   "id": "f5548a57",
   "metadata": {},
   "source": [
    "#### Which release month has the highest average popularity in the last ten years?"
   ]
  },
  {
   "cell_type": "markdown",
   "id": "5cab6c4b",
   "metadata": {},
   "source": [
    "For this investigation, it would be interesting to find out the popularity of movie release month within the last ten years in the data set, since the data is more current. This will also provide further insight on the best time to release a movie. "
   ]
  },
  {
   "cell_type": "code",
   "execution_count": 189,
   "id": "89c43772",
   "metadata": {},
   "outputs": [
    {
     "data": {
      "text/plain": [
       "Timestamp('1960-01-01 00:00:00')"
      ]
     },
     "execution_count": 189,
     "metadata": {},
     "output_type": "execute_result"
    }
   ],
   "source": [
    "#To get the earliest release date\n",
    "df['release_date'].min()"
   ]
  },
  {
   "cell_type": "code",
   "execution_count": 182,
   "id": "a576fae2",
   "metadata": {},
   "outputs": [
    {
     "data": {
      "text/plain": [
       "Timestamp('2015-12-31 00:00:00')"
      ]
     },
     "execution_count": 182,
     "metadata": {},
     "output_type": "execute_result"
    }
   ],
   "source": [
    "#To get the latest release date\n",
    "df['release_date'].max()"
   ]
  },
  {
   "cell_type": "code",
   "execution_count": 183,
   "id": "53af6917",
   "metadata": {
    "scrolled": false
   },
   "outputs": [
    {
     "data": {
      "text/html": [
       "<div>\n",
       "<style scoped>\n",
       "    .dataframe tbody tr th:only-of-type {\n",
       "        vertical-align: middle;\n",
       "    }\n",
       "\n",
       "    .dataframe tbody tr th {\n",
       "        vertical-align: top;\n",
       "    }\n",
       "\n",
       "    .dataframe thead th {\n",
       "        text-align: right;\n",
       "    }\n",
       "</style>\n",
       "<table border=\"1\" class=\"dataframe\">\n",
       "  <thead>\n",
       "    <tr style=\"text-align: right;\">\n",
       "      <th></th>\n",
       "      <th>id</th>\n",
       "      <th>popularity</th>\n",
       "      <th>original_title</th>\n",
       "      <th>director</th>\n",
       "      <th>runtime</th>\n",
       "      <th>genres</th>\n",
       "      <th>release_date</th>\n",
       "      <th>vote_count</th>\n",
       "      <th>vote_average</th>\n",
       "      <th>release_year</th>\n",
       "      <th>budget_adj</th>\n",
       "      <th>revenue_adj</th>\n",
       "      <th>release_month</th>\n",
       "      <th>release_day</th>\n",
       "    </tr>\n",
       "  </thead>\n",
       "  <tbody>\n",
       "    <tr>\n",
       "      <th>0</th>\n",
       "      <td>135397</td>\n",
       "      <td>32.985763</td>\n",
       "      <td>Jurassic World</td>\n",
       "      <td>Colin Trevorrow</td>\n",
       "      <td>124</td>\n",
       "      <td>Action|Adventure|Science Fiction|Thriller</td>\n",
       "      <td>2015-06-09</td>\n",
       "      <td>5562</td>\n",
       "      <td>6.5</td>\n",
       "      <td>2015</td>\n",
       "      <td>1.379999e+08</td>\n",
       "      <td>1.392446e+09</td>\n",
       "      <td>June</td>\n",
       "      <td>Tuesday</td>\n",
       "    </tr>\n",
       "    <tr>\n",
       "      <th>1</th>\n",
       "      <td>76341</td>\n",
       "      <td>28.419936</td>\n",
       "      <td>Mad Max: Fury Road</td>\n",
       "      <td>George Miller</td>\n",
       "      <td>120</td>\n",
       "      <td>Action|Adventure|Science Fiction|Thriller</td>\n",
       "      <td>2015-05-13</td>\n",
       "      <td>6185</td>\n",
       "      <td>7.1</td>\n",
       "      <td>2015</td>\n",
       "      <td>1.379999e+08</td>\n",
       "      <td>3.481613e+08</td>\n",
       "      <td>May</td>\n",
       "      <td>Wednesday</td>\n",
       "    </tr>\n",
       "    <tr>\n",
       "      <th>2</th>\n",
       "      <td>262500</td>\n",
       "      <td>13.112507</td>\n",
       "      <td>Insurgent</td>\n",
       "      <td>Robert Schwentke</td>\n",
       "      <td>119</td>\n",
       "      <td>Adventure|Science Fiction|Thriller</td>\n",
       "      <td>2015-03-18</td>\n",
       "      <td>2480</td>\n",
       "      <td>6.3</td>\n",
       "      <td>2015</td>\n",
       "      <td>1.012000e+08</td>\n",
       "      <td>2.716190e+08</td>\n",
       "      <td>March</td>\n",
       "      <td>Wednesday</td>\n",
       "    </tr>\n",
       "    <tr>\n",
       "      <th>3</th>\n",
       "      <td>140607</td>\n",
       "      <td>11.173104</td>\n",
       "      <td>Star Wars: The Force Awakens</td>\n",
       "      <td>J.J. Abrams</td>\n",
       "      <td>136</td>\n",
       "      <td>Action|Adventure|Science Fiction|Fantasy</td>\n",
       "      <td>2015-12-15</td>\n",
       "      <td>5292</td>\n",
       "      <td>7.5</td>\n",
       "      <td>2015</td>\n",
       "      <td>1.839999e+08</td>\n",
       "      <td>1.902723e+09</td>\n",
       "      <td>December</td>\n",
       "      <td>Tuesday</td>\n",
       "    </tr>\n",
       "    <tr>\n",
       "      <th>4</th>\n",
       "      <td>168259</td>\n",
       "      <td>9.335014</td>\n",
       "      <td>Furious 7</td>\n",
       "      <td>James Wan</td>\n",
       "      <td>137</td>\n",
       "      <td>Action|Crime|Thriller</td>\n",
       "      <td>2015-04-01</td>\n",
       "      <td>2947</td>\n",
       "      <td>7.3</td>\n",
       "      <td>2015</td>\n",
       "      <td>1.747999e+08</td>\n",
       "      <td>1.385749e+09</td>\n",
       "      <td>April</td>\n",
       "      <td>Wednesday</td>\n",
       "    </tr>\n",
       "    <tr>\n",
       "      <th>...</th>\n",
       "      <td>...</td>\n",
       "      <td>...</td>\n",
       "      <td>...</td>\n",
       "      <td>...</td>\n",
       "      <td>...</td>\n",
       "      <td>...</td>\n",
       "      <td>...</td>\n",
       "      <td>...</td>\n",
       "      <td>...</td>\n",
       "      <td>...</td>\n",
       "      <td>...</td>\n",
       "      <td>...</td>\n",
       "      <td>...</td>\n",
       "      <td>...</td>\n",
       "    </tr>\n",
       "    <tr>\n",
       "      <th>7820</th>\n",
       "      <td>21623</td>\n",
       "      <td>0.017396</td>\n",
       "      <td>Beneath</td>\n",
       "      <td>Dagen Merrill</td>\n",
       "      <td>82</td>\n",
       "      <td>Horror|Mystery|Thriller</td>\n",
       "      <td>2007-07-08</td>\n",
       "      <td>14</td>\n",
       "      <td>5.0</td>\n",
       "      <td>2007</td>\n",
       "      <td>0.000000e+00</td>\n",
       "      <td>0.000000e+00</td>\n",
       "      <td>July</td>\n",
       "      <td>Sunday</td>\n",
       "    </tr>\n",
       "    <tr>\n",
       "      <th>7821</th>\n",
       "      <td>39561</td>\n",
       "      <td>0.013017</td>\n",
       "      <td>Testosteron</td>\n",
       "      <td>Tomasz Konecki|Andrzej Saramonowicz</td>\n",
       "      <td>116</td>\n",
       "      <td>Comedy</td>\n",
       "      <td>2007-03-02</td>\n",
       "      <td>10</td>\n",
       "      <td>6.0</td>\n",
       "      <td>2007</td>\n",
       "      <td>1.156835e+06</td>\n",
       "      <td>0.000000e+00</td>\n",
       "      <td>March</td>\n",
       "      <td>Friday</td>\n",
       "    </tr>\n",
       "    <tr>\n",
       "      <th>7822</th>\n",
       "      <td>36443</td>\n",
       "      <td>0.010471</td>\n",
       "      <td>The Union: The Business Behind Getting High</td>\n",
       "      <td>Brett Harvey</td>\n",
       "      <td>104</td>\n",
       "      <td>Comedy|Documentary</td>\n",
       "      <td>2007-05-08</td>\n",
       "      <td>14</td>\n",
       "      <td>6.8</td>\n",
       "      <td>2007</td>\n",
       "      <td>2.103337e+05</td>\n",
       "      <td>0.000000e+00</td>\n",
       "      <td>May</td>\n",
       "      <td>Tuesday</td>\n",
       "    </tr>\n",
       "    <tr>\n",
       "      <th>7823</th>\n",
       "      <td>19934</td>\n",
       "      <td>0.009512</td>\n",
       "      <td>Ce soir je dors chez toi</td>\n",
       "      <td>Olivier Baroux</td>\n",
       "      <td>84</td>\n",
       "      <td>Comedy</td>\n",
       "      <td>2007-11-21</td>\n",
       "      <td>12</td>\n",
       "      <td>5.3</td>\n",
       "      <td>2007</td>\n",
       "      <td>0.000000e+00</td>\n",
       "      <td>0.000000e+00</td>\n",
       "      <td>November</td>\n",
       "      <td>Wednesday</td>\n",
       "    </tr>\n",
       "    <tr>\n",
       "      <th>7824</th>\n",
       "      <td>15651</td>\n",
       "      <td>0.006681</td>\n",
       "      <td>For the Bible Tells Me So</td>\n",
       "      <td>Daniel G. Karslake</td>\n",
       "      <td>98</td>\n",
       "      <td>Documentary</td>\n",
       "      <td>2007-10-05</td>\n",
       "      <td>10</td>\n",
       "      <td>6.1</td>\n",
       "      <td>2007</td>\n",
       "      <td>0.000000e+00</td>\n",
       "      <td>3.289104e+05</td>\n",
       "      <td>October</td>\n",
       "      <td>Friday</td>\n",
       "    </tr>\n",
       "  </tbody>\n",
       "</table>\n",
       "<p>5478 rows × 14 columns</p>\n",
       "</div>"
      ],
      "text/plain": [
       "          id  popularity                               original_title  \\\n",
       "0     135397   32.985763                               Jurassic World   \n",
       "1      76341   28.419936                           Mad Max: Fury Road   \n",
       "2     262500   13.112507                                    Insurgent   \n",
       "3     140607   11.173104                 Star Wars: The Force Awakens   \n",
       "4     168259    9.335014                                    Furious 7   \n",
       "...      ...         ...                                          ...   \n",
       "7820   21623    0.017396                                      Beneath   \n",
       "7821   39561    0.013017                                  Testosteron   \n",
       "7822   36443    0.010471  The Union: The Business Behind Getting High   \n",
       "7823   19934    0.009512                     Ce soir je dors chez toi   \n",
       "7824   15651    0.006681                    For the Bible Tells Me So   \n",
       "\n",
       "                                 director  runtime  \\\n",
       "0                         Colin Trevorrow      124   \n",
       "1                           George Miller      120   \n",
       "2                        Robert Schwentke      119   \n",
       "3                             J.J. Abrams      136   \n",
       "4                               James Wan      137   \n",
       "...                                   ...      ...   \n",
       "7820                        Dagen Merrill       82   \n",
       "7821  Tomasz Konecki|Andrzej Saramonowicz      116   \n",
       "7822                         Brett Harvey      104   \n",
       "7823                       Olivier Baroux       84   \n",
       "7824                  Daniel G. Karslake        98   \n",
       "\n",
       "                                         genres release_date  vote_count  \\\n",
       "0     Action|Adventure|Science Fiction|Thriller   2015-06-09        5562   \n",
       "1     Action|Adventure|Science Fiction|Thriller   2015-05-13        6185   \n",
       "2            Adventure|Science Fiction|Thriller   2015-03-18        2480   \n",
       "3      Action|Adventure|Science Fiction|Fantasy   2015-12-15        5292   \n",
       "4                         Action|Crime|Thriller   2015-04-01        2947   \n",
       "...                                         ...          ...         ...   \n",
       "7820                    Horror|Mystery|Thriller   2007-07-08          14   \n",
       "7821                                     Comedy   2007-03-02          10   \n",
       "7822                         Comedy|Documentary   2007-05-08          14   \n",
       "7823                                     Comedy   2007-11-21          12   \n",
       "7824                                Documentary   2007-10-05          10   \n",
       "\n",
       "      vote_average  release_year    budget_adj   revenue_adj release_month  \\\n",
       "0              6.5          2015  1.379999e+08  1.392446e+09          June   \n",
       "1              7.1          2015  1.379999e+08  3.481613e+08           May   \n",
       "2              6.3          2015  1.012000e+08  2.716190e+08         March   \n",
       "3              7.5          2015  1.839999e+08  1.902723e+09      December   \n",
       "4              7.3          2015  1.747999e+08  1.385749e+09         April   \n",
       "...            ...           ...           ...           ...           ...   \n",
       "7820           5.0          2007  0.000000e+00  0.000000e+00          July   \n",
       "7821           6.0          2007  1.156835e+06  0.000000e+00         March   \n",
       "7822           6.8          2007  2.103337e+05  0.000000e+00           May   \n",
       "7823           5.3          2007  0.000000e+00  0.000000e+00      November   \n",
       "7824           6.1          2007  0.000000e+00  3.289104e+05       October   \n",
       "\n",
       "     release_day  \n",
       "0        Tuesday  \n",
       "1      Wednesday  \n",
       "2      Wednesday  \n",
       "3        Tuesday  \n",
       "4      Wednesday  \n",
       "...          ...  \n",
       "7820      Sunday  \n",
       "7821      Friday  \n",
       "7822     Tuesday  \n",
       "7823   Wednesday  \n",
       "7824      Friday  \n",
       "\n",
       "[5478 rows x 14 columns]"
      ]
     },
     "execution_count": 183,
     "metadata": {},
     "output_type": "execute_result"
    }
   ],
   "source": [
    "#To create a filter to get data from the last ten years, pass a filter and specify the dates\n",
    "\n",
    "filt = (df['release_date'] >= pd.to_datetime('2006-01-01')) & (df['release_date'] < pd.to_datetime('2015-12-31'))\n",
    "df.loc[filt]"
   ]
  },
  {
   "cell_type": "markdown",
   "id": "0714f85a",
   "metadata": {},
   "source": [
    "It would be interesting to conduct an analysis of the dataframe so that it only investigates the data that was collected within the last 10 years in the data set. For this, we would need to create a boolean mask."
   ]
  },
  {
   "cell_type": "code",
   "execution_count": 190,
   "id": "d4277670",
   "metadata": {
    "scrolled": false
   },
   "outputs": [
    {
     "data": {
      "text/plain": [
       "0         True\n",
       "1         True\n",
       "2         True\n",
       "3         True\n",
       "4         True\n",
       "         ...  \n",
       "10861    False\n",
       "10862    False\n",
       "10863    False\n",
       "10864    False\n",
       "10865    False\n",
       "Name: release_date, Length: 10865, dtype: bool"
      ]
     },
     "execution_count": 190,
     "metadata": {},
     "output_type": "execute_result"
    }
   ],
   "source": [
    "# Let's construct Boolean mask  \n",
    "mask = df['release_date'].between('2006-01-01', '2015-12-31')\n",
    "mask"
   ]
  },
  {
   "cell_type": "code",
   "execution_count": 185,
   "id": "94918d82",
   "metadata": {},
   "outputs": [],
   "source": [
    "# Let's apply the Boolean mask\n",
    "imdb_df = df[mask]"
   ]
  },
  {
   "cell_type": "code",
   "execution_count": 186,
   "id": "6bf890bf",
   "metadata": {},
   "outputs": [
    {
     "data": {
      "text/plain": [
       "Timestamp('2006-01-01 00:00:00')"
      ]
     },
     "execution_count": 186,
     "metadata": {},
     "output_type": "execute_result"
    }
   ],
   "source": [
    "#to check if changes have taken place\n",
    "imdb_df['release_date'].min()"
   ]
  },
  {
   "cell_type": "code",
   "execution_count": 191,
   "id": "234c93fc",
   "metadata": {},
   "outputs": [
    {
     "data": {
      "text/plain": [
       "release_month\n",
       "June         0.800755\n",
       "November     0.755466\n",
       "December     0.750784\n",
       "May          0.749997\n",
       "July         0.747678\n",
       "March        0.642808\n",
       "October      0.613168\n",
       "February     0.589931\n",
       "August       0.584363\n",
       "September    0.564820\n",
       "April        0.562475\n",
       "January      0.460574\n",
       "Name: popularity, dtype: float64"
      ]
     },
     "execution_count": 191,
     "metadata": {},
     "output_type": "execute_result"
    }
   ],
   "source": [
    "#To get the popularity mean for each release month\n",
    "popularity_means = df.groupby('release_month')['popularity'].mean().sort_values(ascending=False)\n",
    "popularity_means"
   ]
  },
  {
   "cell_type": "code",
   "execution_count": 195,
   "id": "0f29626a",
   "metadata": {},
   "outputs": [
    {
     "data": {
      "image/png": "[encoded data removed]",
      "text/plain": [
       "<Figure size 720x504 with 1 Axes>"
      ]
     },
     "metadata": {
      "needs_background": "light"
     },
     "output_type": "display_data"
    }
   ],
   "source": [
    "#To visualize the results\n",
    "order = ['January', 'February', 'March', 'April', 'May', 'June', 'July', 'August', 'September', 'October', 'November', 'December']\n",
    "sns.barplot(x='popularity', y='release_month', data=imdb_df, palette='spring', order= order)\n",
    "plt.title('Popularity by Release Month')\n",
    "plt.gcf().set_size_inches(10,7)\n",
    "plt.show();"
   ]
  },
  {
   "cell_type": "markdown",
   "id": "32fe0cf4",
   "metadata": {},
   "source": [
    "Findings: Movies released in the months of June and December appear to be the most popular which corresponds to the initial analysis of revenue earned."
   ]
  },
  {
   "cell_type": "markdown",
   "id": "c0396063",
   "metadata": {},
   "source": [
    "<a id='conclusions'></a>\n",
    "## Conclusion"
   ]
  },
  {
   "cell_type": "markdown",
   "id": "d7a5d7ff",
   "metadata": {},
   "source": [
    "**Limitations**\n",
    "The main limitation of this analysis was that there were significant number of zero values in the revenue_adj and budget_adj columns that were used in this analysis which influenced reliability of the data. This is also my first project and very basic data analysis skills were used to analyze the data which may impact the outcome.\n",
    "\n",
    "**Additional Research**\n",
    "More comprehensive analysis is required for the correlation between the genres, budget and revenue. This study did not explore the correlation between the gender of the movies and other features of the data set which may be quite insightful for the movie industry.\n",
    "\n",
    "**Summary of Findings**\n",
    "\n",
    "1. The correlation analysis and Heatmap showed a high correlation for Popularity with all the significant features as follows:\n",
    "\n",
    "- vote_count   (0.800828) - a high positive relationship between vote count and popularity\n",
    "- revenue_adj  (0.609085) - a high positive relationship between vote count and popularity\n",
    "- budget_adj   (0.513555) - a medium positive relationship between vote count and popularity\n",
    "- vote_average (0.209517) - a low positive relationship between vote count and popularity\n",
    "- runtime      (0.139032) - a low positive relationship between vote count and popularity\n",
    "- release_year (0.089806) - a low positive relationship between vote count and popularity\n",
    "\n",
    "2. An analysis of directors, their popularity and the revenue earned indicates that whereas there is a positive correlation between popularity and revenues, it is not necessary for a movie to be popular to earn high revenue. It is also clear that the popularity of a director does not determine the number of movies they produce or the revenue earned by their movies. \n",
    "\n",
    "\n",
    "3. An analysis of the best time to release a movie shows that June and December are the best months to release a movie. The revenue and popularity of movies earned in those two months are significantly higher. However, the number of movies released per month does not show a significant impact on popularity and revenues. Most movies were released in September and October and the least released in April.\n",
    "\n",
    "In Summary, the above analsyis and visualizations were able to answer the two research questions.\n",
    "\n",
    "**References**\n",
    "1. I got some inspiration from this site https://towardsdatascience.com/a-practical-guide-for-exploratory-data-analysis-movies-on-streaming-platforms-5ea494fee9d2\n",
    "2. I got a lot of solutions from the stack overflow  https://stackoverflow.com/questions/ and the geek for geek websites https://www.geeksforgeeks.org\n",
    "3. A lot of reference was also made to the official pandas documentation site https://pandas.pydata.org/pandas-docs/stable/user_guide/10min.html#reshaping."
   ]
  },
  {
   "cell_type": "code",
   "execution_count": null,
   "id": "76a16611",
   "metadata": {},
   "outputs": [],
   "source": []
  }
 ],
 "metadata": {
  "kernelspec": {
   "display_name": "Python [conda env:Project1] *",
   "language": "python",
   "name": "conda-env-Project1-py"
  },
  "language_info": {
   "codemirror_mode": {
    "name": "ipython",
    "version": 3
   },
   "file_extension": ".py",
   "mimetype": "text/x-python",
   "name": "python",
   "nbconvert_exporter": "python",
   "pygments_lexer": "ipython3",
   "version": "3.10.4"
  }
 },
 "nbformat": 4,
 "nbformat_minor": 5
}
